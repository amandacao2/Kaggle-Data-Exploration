{
 "cells": [
  {
   "cell_type": "markdown",
   "id": "383872c1",
   "metadata": {},
   "source": [
    "third attempt"
   ]
  },
  {
   "cell_type": "code",
   "execution_count": 5,
   "id": "8b5e49fb",
   "metadata": {},
   "outputs": [],
   "source": [
    "#TODO:\n",
    "# - implement cross validation \n",
    "# - tune hyperparameters\n",
    "# - try more complex models\n",
    "# - feature selection\n",
    "# - more organized pipeline"
   ]
  },
  {
   "cell_type": "code",
   "execution_count": 6,
   "id": "9e3e6951",
   "metadata": {},
   "outputs": [],
   "source": [
    "import pandas as pd\n",
    "import numpy as np\n",
    "from sklearn.preprocessing import StandardScaler, PowerTransformer\n",
    "from sklearn.compose import ColumnTransformer\n",
    "from sklearn.pipeline import Pipeline\n",
    "from sklearn.impute import SimpleImputer\n",
    "from sklearn.preprocessing import OneHotEncoder\n",
    "from sklearn.linear_model import LinearRegression\n",
    "from sklearn.metrics import mean_absolute_error\n",
    "from sklearn.model_selection import train_test_split\n",
    "import matplotlib.pyplot as plt\n",
    "import seaborn as sns\n",
    "from sklearn.model_selection import cross_val_score\n",
    "from sklearn.model_selection import KFold\n",
    "from sklearn.linear_model import LinearRegression, Lasso, Ridge\n",
    "\n"
   ]
  },
  {
   "cell_type": "code",
   "execution_count": 7,
   "id": "edc4ec6f",
   "metadata": {},
   "outputs": [
    {
     "name": "stdout",
     "output_type": "stream",
     "text": [
      "FEATURES THAT ARE HIGHLY CORRELATED TO EACH OTHER SUMMARY:\n",
      " ============================================================\n",
      "('GarageCars', 'GarageArea') have a correlation of: 0.882475414281462\n",
      "('GarageArea', 'GarageCars') have a correlation of: 0.882475414281462\n",
      "('YearBuilt', 'GarageYrBlt') have a correlation of: 0.8256674841743408\n",
      "('GarageYrBlt', 'YearBuilt') have a correlation of: 0.8256674841743408\n",
      "('GrLivArea', 'TotRmsAbvGrd') have a correlation of: 0.8254893743088425\n",
      "('TotRmsAbvGrd', 'GrLivArea') have a correlation of: 0.8254893743088425\n",
      "('TotalBsmtSF', '1stFlrSF') have a correlation of: 0.8195299750050339\n",
      "('1stFlrSF', 'TotalBsmtSF') have a correlation of: 0.8195299750050339\n",
      "('SalePrice', 'OverallQual') have a correlation of: 0.7909816005838053\n",
      "('OverallQual', 'SalePrice') have a correlation of: 0.7909816005838053\n",
      "('GrLivArea', 'SalePrice') have a correlation of: 0.7086244776126515\n",
      "('SalePrice', 'GrLivArea') have a correlation of: 0.7086244776126515\n",
      "('2ndFlrSF', 'GrLivArea') have a correlation of: 0.6875010641666033\n",
      "('GrLivArea', '2ndFlrSF') have a correlation of: 0.6875010641666033\n",
      "('TotRmsAbvGrd', 'BedroomAbvGr') have a correlation of: 0.676619935742649\n",
      "('BedroomAbvGr', 'TotRmsAbvGrd') have a correlation of: 0.676619935742649\n"
     ]
    }
   ],
   "source": [
    "df = pd.read_csv('train.csv')\n",
    "\n",
    "df.drop(\"Id\", inplace=True, axis=1)\n",
    "df.head()\n",
    "\n",
    "num_cols = df.select_dtypes(include=['int64', 'float64']).columns.tolist()\n",
    "\n",
    "#removing correlated features \n",
    "corr = df[num_cols].corr()\n",
    "# plt.figure(figsize=(16, 12))\n",
    "# sns.heatmap(corr, annot=False, cmap='coolwarm', center=0)\n",
    "# plt.title('Feature Correlation Heatmap')\n",
    "# plt.show()\n",
    "\n",
    "corrs = corr.abs().unstack().sort_values(ascending=False)\n",
    "corrs = corrs[corrs != 1]\n",
    "\n",
    "print(\"FEATURES THAT ARE HIGHLY CORRELATED TO EACH OTHER SUMMARY:\\n\", \"=\"*60)\n",
    "i = 0\n",
    "for x in corrs:\n",
    "    print(f\"{corrs.index[i]} have a correlation of: {x}\")\n",
    "    i += 1\n",
    "    if i == 16:  \n",
    "        break\n",
    "\n",
    "# Removing highly correlated features\n",
    "drop_cols = ['GarageCars','GarageYrBlt',]\n",
    "df.drop(drop_cols, axis=1, inplace=True)"
   ]
  },
  {
   "cell_type": "code",
   "execution_count": 8,
   "id": "bff9106c",
   "metadata": {},
   "outputs": [
    {
     "name": "stdout",
     "output_type": "stream",
     "text": [
      "Linear CV MAE: 4416192730.88138\n",
      "Lasso CV MAE: 0.30989\n",
      "Lasso CV MAE: 0.30989\n",
      "Ridge CV MAE: 5228989933.89106\n",
      "Ridge CV MAE: 5228989933.89106\n"
     ]
    }
   ],
   "source": [
    "X = df.drop(\"SalePrice\", axis=1)\n",
    "y = np.log1p(df[\"SalePrice\"])\n",
    "\n",
    "X_train, X_test, y_train, y_test = train_test_split(X, y, test_size=0.2, random_state=42)\n",
    "numerical_cols = X.select_dtypes(include=['int64', 'float64']).columns.tolist()\n",
    "categorical_cols = X.select_dtypes(include=['object']).columns.tolist()\n",
    "\n",
    "numerical_transformer = Pipeline(steps=[\n",
    "    ('imputer', SimpleImputer(strategy='constant')),\n",
    "    ('yeojohnson', PowerTransformer(method='yeo-johnson')),\n",
    "    ('scaler', StandardScaler())\n",
    "])\n",
    "\n",
    "categorical_transformer = Pipeline(steps=[\n",
    "    ('imputer', SimpleImputer(strategy='most_frequent')),\n",
    "    ('onehot', OneHotEncoder(handle_unknown='ignore'))\n",
    "])\n",
    "preprocessor = ColumnTransformer(\n",
    "    transformers=[\n",
    "        ('num', numerical_transformer, numerical_cols),\n",
    "        ('cat', categorical_transformer, categorical_cols)\n",
    "    ])\n",
    "\n",
    "models = {\n",
    "    'Linear': LinearRegression(),\n",
    "    'Lasso': Lasso(),\n",
    "    'Ridge': Ridge()\n",
    "}\n",
    "\n",
    "for name, model in models.items():\n",
    "    bundle = Pipeline(steps=[\n",
    "        ('preprocessor', preprocessor),\n",
    "        (name.lower(), model)\n",
    "    ])\n",
    "    scores = cross_val_score(bundle, X, y, cv=5, scoring='neg_mean_absolute_error')\n",
    "    print(f\"{name} CV MAE: {-scores.mean():.5f}\")\n"
   ]
  },
  {
   "cell_type": "code",
   "execution_count": null,
   "id": "d5610751",
   "metadata": {},
   "outputs": [
    {
     "name": "stdout",
     "output_type": "stream",
     "text": [
      "Linear MAE (CV splits): [0.1123580990866465, 0.08137400741729582, 0.09298220206107188, 0.08535709926890397, 25748928577.65387]\n",
      "Linear Mean MAE: 5149785715.60519\n",
      "Lasso MAE (CV splits): [0.33713389241665187, 0.3021658789730622, 0.2925313333043492, 0.3293569525343518, 0.28902746976722204]\n",
      "Lasso Mean MAE: 0.31004\n",
      "Lasso MAE (CV splits): [0.33713389241665187, 0.3021658789730622, 0.2925313333043492, 0.3293569525343518, 0.28902746976722204]\n",
      "Lasso Mean MAE: 0.31004\n",
      "Ridge MAE (CV splits): [0.08552965895841952, 0.0809379274260034, 0.0882071707901046, 0.08604581604691014, 24449369851.541565]\n",
      "Ridge Mean MAE: 4889873970.37646\n",
      "Ridge MAE (CV splits): [0.08552965895841952, 0.0809379274260034, 0.0882071707901046, 0.08604581604691014, 24449369851.541565]\n",
      "Ridge Mean MAE: 4889873970.37646\n"
     ]
    }
   ],
   "source": [
    "\n",
    "kf = KFold(n_splits=5, shuffle=True, random_state=42)\n",
    "\n",
    "for name, model in models.items():\n",
    "    maes = []\n",
    "    for train_idx, test_idx in kf.split(X):\n",
    "        X_train_cv, X_test_cv = X.iloc[train_idx], X.iloc[test_idx]\n",
    "        y_train_cv, y_test_cv = y.iloc[train_idx], y.iloc[test_idx]\n",
    "        bundle = Pipeline(steps=[\n",
    "            ('preprocessor', preprocessor),\n",
    "            (name.lower(), model)\n",
    "        ])\n",
    "        bundle.fit(X_train_cv, y_train_cv)\n",
    "        preds = bundle.predict(X_test_cv)\n",
    "        mae = mean_absolute_error(y_test_cv, preds)\n",
    "        maes.append(mae)\n",
    "    print(f\"{name} MAE (CV splits): {maes}\")\n",
    "    print(f\"{name} Mean MAE: {np.mean(maes):.5f}\")"
   ]
  }
 ],
 "metadata": {
  "kernelspec": {
   "display_name": "Python 3",
   "language": "python",
   "name": "python3"
  },
  "language_info": {
   "codemirror_mode": {
    "name": "ipython",
    "version": 3
   },
   "file_extension": ".py",
   "mimetype": "text/x-python",
   "name": "python",
   "nbconvert_exporter": "python",
   "pygments_lexer": "ipython3",
   "version": "3.13.6"
  }
 },
 "nbformat": 4,
 "nbformat_minor": 5
}
